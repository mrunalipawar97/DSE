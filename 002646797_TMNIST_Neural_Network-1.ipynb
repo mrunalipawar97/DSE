{
  "nbformat": 4,
  "nbformat_minor": 0,
  "metadata": {
    "colab": {
      "provenance": []
    },
    "kernelspec": {
      "name": "python3",
      "display_name": "Python 3"
    },
    "language_info": {
      "name": "python"
    }
  },
  "cells": [
    {
      "cell_type": "markdown",
      "source": [
        "# Abstract\n",
        "\n",
        "## Neural Network Type Classification | TMNIST\n",
        "\n",
        "The objective of this notebook is to carry out character recognition on the TMNIST dataset, which encompasses 94 distinct characters. To achieve this, I have implemented a straightforward convolutional neural network (CNN) composed of three layers. Upon evaluation, the CNN demonstrated a commendable performance, achieving an accuracy rate of approximately 93.37%. This level of accuracy is quite impressive, considering the relative simplicity of the CNN's architecture."
      ],
      "metadata": {
        "id": "ysCKQtLbKyHy"
      }
    },
    {
      "cell_type": "code",
      "source": [
        "!pip install gdown"
      ],
      "metadata": {
        "colab": {
          "base_uri": "https://localhost:8080/"
        },
        "id": "hvfKiAl5wEOi",
        "outputId": "d38c4244-20a0-45a6-bc68-f3f45ca033fc"
      },
      "execution_count": 3,
      "outputs": [
        {
          "output_type": "stream",
          "name": "stdout",
          "text": [
            "Requirement already satisfied: gdown in /usr/local/lib/python3.10/dist-packages (4.6.6)\n",
            "Requirement already satisfied: filelock in /usr/local/lib/python3.10/dist-packages (from gdown) (3.13.1)\n",
            "Requirement already satisfied: requests[socks] in /usr/local/lib/python3.10/dist-packages (from gdown) (2.31.0)\n",
            "Requirement already satisfied: six in /usr/local/lib/python3.10/dist-packages (from gdown) (1.16.0)\n",
            "Requirement already satisfied: tqdm in /usr/local/lib/python3.10/dist-packages (from gdown) (4.66.1)\n",
            "Requirement already satisfied: beautifulsoup4 in /usr/local/lib/python3.10/dist-packages (from gdown) (4.11.2)\n",
            "Requirement already satisfied: soupsieve>1.2 in /usr/local/lib/python3.10/dist-packages (from beautifulsoup4->gdown) (2.5)\n",
            "Requirement already satisfied: charset-normalizer<4,>=2 in /usr/local/lib/python3.10/dist-packages (from requests[socks]->gdown) (3.3.2)\n",
            "Requirement already satisfied: idna<4,>=2.5 in /usr/local/lib/python3.10/dist-packages (from requests[socks]->gdown) (3.6)\n",
            "Requirement already satisfied: urllib3<3,>=1.21.1 in /usr/local/lib/python3.10/dist-packages (from requests[socks]->gdown) (2.0.7)\n",
            "Requirement already satisfied: certifi>=2017.4.17 in /usr/local/lib/python3.10/dist-packages (from requests[socks]->gdown) (2023.11.17)\n",
            "Requirement already satisfied: PySocks!=1.5.7,>=1.5.6 in /usr/local/lib/python3.10/dist-packages (from requests[socks]->gdown) (1.7.1)\n"
          ]
        }
      ]
    },
    {
      "cell_type": "code",
      "source": [
        "import numpy as np\n",
        "import pandas as pd\n",
        "import tensorflow as tf\n",
        "from google.colab import drive\n",
        "import re\n",
        "from tensorflow.keras.models import Sequential\n",
        "from tensorflow.keras.layers import Dense, Conv2D, MaxPooling2D, Flatten, Dropout\n",
        "from tensorflow.keras.utils import to_categorical\n",
        "import matplotlib.pyplot as plt\n",
        "\n",
        "import tensorflow as tf\n",
        "from tensorflow.keras.utils import to_categorical\n",
        "\n",
        "import matplotlib.pyplot as plt\n",
        "import warnings\n",
        "warnings.filterwarnings('ignore')\n",
        "%matplotlib inline"
      ],
      "metadata": {
        "id": "ueP1BaTtwHyl"
      },
      "execution_count": 4,
      "outputs": []
    },
    {
      "cell_type": "code",
      "source": [
        "import gdown\n",
        "\n",
        "# Replace 'FILE_ID' with the actual File ID\n",
        "file_id = '1tZu5WALwwTp3Aa8TtFgvIrtbTRbPHu5g'\n",
        "\n",
        "# Define the URL\n",
        "url = f'https://drive.google.com/uc?id={file_id}'\n",
        "\n",
        "# Define the output file name\n",
        "output_file = '94_character_TMNIST.csv'\n",
        "\n",
        "# Download the file\n",
        "gdown.download(url, output_file, quiet=False)"
      ],
      "metadata": {
        "colab": {
          "base_uri": "https://localhost:8080/",
          "height": 100
        },
        "id": "u7A_v9AhwN2i",
        "outputId": "f0f49222-c545-4444-f98e-888baca00a11"
      },
      "execution_count": 5,
      "outputs": [
        {
          "output_type": "stream",
          "name": "stderr",
          "text": [
            "Downloading...\n",
            "From: https://drive.google.com/uc?id=1tZu5WALwwTp3Aa8TtFgvIrtbTRbPHu5g\n",
            "To: /content/94_character_TMNIST.csv\n",
            "100%|██████████| 941M/941M [00:08<00:00, 106MB/s] \n"
          ]
        },
        {
          "output_type": "execute_result",
          "data": {
            "text/plain": [
              "'94_character_TMNIST.csv'"
            ],
            "application/vnd.google.colaboratory.intrinsic+json": {
              "type": "string"
            }
          },
          "metadata": {},
          "execution_count": 5
        }
      ]
    },
    {
      "cell_type": "markdown",
      "source": [
        "Load TMNIST Dataset into dataframe"
      ],
      "metadata": {
        "id": "3J9K1-zWFjB0"
      }
    },
    {
      "cell_type": "code",
      "source": [
        "data = pd.read_csv('94_character_TMNIST.csv')\n",
        "\n",
        "# Display the first few rows of the DataFrame\n",
        "data.head()"
      ],
      "metadata": {
        "colab": {
          "base_uri": "https://localhost:8080/",
          "height": 229
        },
        "id": "v0ZgbSoDwRaL",
        "outputId": "cb4593d0-3809-44a1-e015-c4dc66c5e39d"
      },
      "execution_count": 6,
      "outputs": [
        {
          "output_type": "execute_result",
          "data": {
            "text/plain": [
              "                  names labels    1    2    3    4    5    6    7    8  ...  \\\n",
              "0         Salsa-Regular      6  0.0  0.0  0.0  0.0  0.0  0.0  0.0  0.0  ...   \n",
              "1  MouseMemoirs-Regular      D  0.0  0.0  0.0  0.0  0.0  0.0  0.0  0.0  ...   \n",
              "2     Creepster-Regular      f  0.0  0.0  0.0  0.0  0.0  0.0  0.0  0.0  ...   \n",
              "3     SeoulNamsan-Light      /  0.0  0.0  0.0  0.0  0.0  0.0  0.0  0.0  ...   \n",
              "4  HachiMaruPop-Regular      F  0.0  0.0  0.0  0.0  0.0  0.0  0.0  0.0  ...   \n",
              "\n",
              "   775  776  777  778  779  780  781  782  783  784  \n",
              "0  0.0  0.0  0.0  0.0  0.0  0.0  0.0  0.0  0.0  0.0  \n",
              "1  0.0  0.0  0.0  0.0  0.0  0.0  0.0  0.0  0.0  0.0  \n",
              "2  0.0  0.0  0.0  0.0  0.0  0.0  0.0  0.0  0.0  0.0  \n",
              "3  0.0  0.0  0.0  0.0  0.0  0.0  0.0  0.0  0.0  0.0  \n",
              "4  0.0  0.0  0.0  0.0  0.0  0.0  0.0  0.0  0.0  0.0  \n",
              "\n",
              "[5 rows x 786 columns]"
            ],
            "text/html": [
              "\n",
              "  <div id=\"df-b6d8e083-67ae-4cd9-90c6-a06331d73c73\" class=\"colab-df-container\">\n",
              "    <div>\n",
              "<style scoped>\n",
              "    .dataframe tbody tr th:only-of-type {\n",
              "        vertical-align: middle;\n",
              "    }\n",
              "\n",
              "    .dataframe tbody tr th {\n",
              "        vertical-align: top;\n",
              "    }\n",
              "\n",
              "    .dataframe thead th {\n",
              "        text-align: right;\n",
              "    }\n",
              "</style>\n",
              "<table border=\"1\" class=\"dataframe\">\n",
              "  <thead>\n",
              "    <tr style=\"text-align: right;\">\n",
              "      <th></th>\n",
              "      <th>names</th>\n",
              "      <th>labels</th>\n",
              "      <th>1</th>\n",
              "      <th>2</th>\n",
              "      <th>3</th>\n",
              "      <th>4</th>\n",
              "      <th>5</th>\n",
              "      <th>6</th>\n",
              "      <th>7</th>\n",
              "      <th>8</th>\n",
              "      <th>...</th>\n",
              "      <th>775</th>\n",
              "      <th>776</th>\n",
              "      <th>777</th>\n",
              "      <th>778</th>\n",
              "      <th>779</th>\n",
              "      <th>780</th>\n",
              "      <th>781</th>\n",
              "      <th>782</th>\n",
              "      <th>783</th>\n",
              "      <th>784</th>\n",
              "    </tr>\n",
              "  </thead>\n",
              "  <tbody>\n",
              "    <tr>\n",
              "      <th>0</th>\n",
              "      <td>Salsa-Regular</td>\n",
              "      <td>6</td>\n",
              "      <td>0.0</td>\n",
              "      <td>0.0</td>\n",
              "      <td>0.0</td>\n",
              "      <td>0.0</td>\n",
              "      <td>0.0</td>\n",
              "      <td>0.0</td>\n",
              "      <td>0.0</td>\n",
              "      <td>0.0</td>\n",
              "      <td>...</td>\n",
              "      <td>0.0</td>\n",
              "      <td>0.0</td>\n",
              "      <td>0.0</td>\n",
              "      <td>0.0</td>\n",
              "      <td>0.0</td>\n",
              "      <td>0.0</td>\n",
              "      <td>0.0</td>\n",
              "      <td>0.0</td>\n",
              "      <td>0.0</td>\n",
              "      <td>0.0</td>\n",
              "    </tr>\n",
              "    <tr>\n",
              "      <th>1</th>\n",
              "      <td>MouseMemoirs-Regular</td>\n",
              "      <td>D</td>\n",
              "      <td>0.0</td>\n",
              "      <td>0.0</td>\n",
              "      <td>0.0</td>\n",
              "      <td>0.0</td>\n",
              "      <td>0.0</td>\n",
              "      <td>0.0</td>\n",
              "      <td>0.0</td>\n",
              "      <td>0.0</td>\n",
              "      <td>...</td>\n",
              "      <td>0.0</td>\n",
              "      <td>0.0</td>\n",
              "      <td>0.0</td>\n",
              "      <td>0.0</td>\n",
              "      <td>0.0</td>\n",
              "      <td>0.0</td>\n",
              "      <td>0.0</td>\n",
              "      <td>0.0</td>\n",
              "      <td>0.0</td>\n",
              "      <td>0.0</td>\n",
              "    </tr>\n",
              "    <tr>\n",
              "      <th>2</th>\n",
              "      <td>Creepster-Regular</td>\n",
              "      <td>f</td>\n",
              "      <td>0.0</td>\n",
              "      <td>0.0</td>\n",
              "      <td>0.0</td>\n",
              "      <td>0.0</td>\n",
              "      <td>0.0</td>\n",
              "      <td>0.0</td>\n",
              "      <td>0.0</td>\n",
              "      <td>0.0</td>\n",
              "      <td>...</td>\n",
              "      <td>0.0</td>\n",
              "      <td>0.0</td>\n",
              "      <td>0.0</td>\n",
              "      <td>0.0</td>\n",
              "      <td>0.0</td>\n",
              "      <td>0.0</td>\n",
              "      <td>0.0</td>\n",
              "      <td>0.0</td>\n",
              "      <td>0.0</td>\n",
              "      <td>0.0</td>\n",
              "    </tr>\n",
              "    <tr>\n",
              "      <th>3</th>\n",
              "      <td>SeoulNamsan-Light</td>\n",
              "      <td>/</td>\n",
              "      <td>0.0</td>\n",
              "      <td>0.0</td>\n",
              "      <td>0.0</td>\n",
              "      <td>0.0</td>\n",
              "      <td>0.0</td>\n",
              "      <td>0.0</td>\n",
              "      <td>0.0</td>\n",
              "      <td>0.0</td>\n",
              "      <td>...</td>\n",
              "      <td>0.0</td>\n",
              "      <td>0.0</td>\n",
              "      <td>0.0</td>\n",
              "      <td>0.0</td>\n",
              "      <td>0.0</td>\n",
              "      <td>0.0</td>\n",
              "      <td>0.0</td>\n",
              "      <td>0.0</td>\n",
              "      <td>0.0</td>\n",
              "      <td>0.0</td>\n",
              "    </tr>\n",
              "    <tr>\n",
              "      <th>4</th>\n",
              "      <td>HachiMaruPop-Regular</td>\n",
              "      <td>F</td>\n",
              "      <td>0.0</td>\n",
              "      <td>0.0</td>\n",
              "      <td>0.0</td>\n",
              "      <td>0.0</td>\n",
              "      <td>0.0</td>\n",
              "      <td>0.0</td>\n",
              "      <td>0.0</td>\n",
              "      <td>0.0</td>\n",
              "      <td>...</td>\n",
              "      <td>0.0</td>\n",
              "      <td>0.0</td>\n",
              "      <td>0.0</td>\n",
              "      <td>0.0</td>\n",
              "      <td>0.0</td>\n",
              "      <td>0.0</td>\n",
              "      <td>0.0</td>\n",
              "      <td>0.0</td>\n",
              "      <td>0.0</td>\n",
              "      <td>0.0</td>\n",
              "    </tr>\n",
              "  </tbody>\n",
              "</table>\n",
              "<p>5 rows × 786 columns</p>\n",
              "</div>\n",
              "    <div class=\"colab-df-buttons\">\n",
              "\n",
              "  <div class=\"colab-df-container\">\n",
              "    <button class=\"colab-df-convert\" onclick=\"convertToInteractive('df-b6d8e083-67ae-4cd9-90c6-a06331d73c73')\"\n",
              "            title=\"Convert this dataframe to an interactive table.\"\n",
              "            style=\"display:none;\">\n",
              "\n",
              "  <svg xmlns=\"http://www.w3.org/2000/svg\" height=\"24px\" viewBox=\"0 -960 960 960\">\n",
              "    <path d=\"M120-120v-720h720v720H120Zm60-500h600v-160H180v160Zm220 220h160v-160H400v160Zm0 220h160v-160H400v160ZM180-400h160v-160H180v160Zm440 0h160v-160H620v160ZM180-180h160v-160H180v160Zm440 0h160v-160H620v160Z\"/>\n",
              "  </svg>\n",
              "    </button>\n",
              "\n",
              "  <style>\n",
              "    .colab-df-container {\n",
              "      display:flex;\n",
              "      gap: 12px;\n",
              "    }\n",
              "\n",
              "    .colab-df-convert {\n",
              "      background-color: #E8F0FE;\n",
              "      border: none;\n",
              "      border-radius: 50%;\n",
              "      cursor: pointer;\n",
              "      display: none;\n",
              "      fill: #1967D2;\n",
              "      height: 32px;\n",
              "      padding: 0 0 0 0;\n",
              "      width: 32px;\n",
              "    }\n",
              "\n",
              "    .colab-df-convert:hover {\n",
              "      background-color: #E2EBFA;\n",
              "      box-shadow: 0px 1px 2px rgba(60, 64, 67, 0.3), 0px 1px 3px 1px rgba(60, 64, 67, 0.15);\n",
              "      fill: #174EA6;\n",
              "    }\n",
              "\n",
              "    .colab-df-buttons div {\n",
              "      margin-bottom: 4px;\n",
              "    }\n",
              "\n",
              "    [theme=dark] .colab-df-convert {\n",
              "      background-color: #3B4455;\n",
              "      fill: #D2E3FC;\n",
              "    }\n",
              "\n",
              "    [theme=dark] .colab-df-convert:hover {\n",
              "      background-color: #434B5C;\n",
              "      box-shadow: 0px 1px 3px 1px rgba(0, 0, 0, 0.15);\n",
              "      filter: drop-shadow(0px 1px 2px rgba(0, 0, 0, 0.3));\n",
              "      fill: #FFFFFF;\n",
              "    }\n",
              "  </style>\n",
              "\n",
              "    <script>\n",
              "      const buttonEl =\n",
              "        document.querySelector('#df-b6d8e083-67ae-4cd9-90c6-a06331d73c73 button.colab-df-convert');\n",
              "      buttonEl.style.display =\n",
              "        google.colab.kernel.accessAllowed ? 'block' : 'none';\n",
              "\n",
              "      async function convertToInteractive(key) {\n",
              "        const element = document.querySelector('#df-b6d8e083-67ae-4cd9-90c6-a06331d73c73');\n",
              "        const dataTable =\n",
              "          await google.colab.kernel.invokeFunction('convertToInteractive',\n",
              "                                                    [key], {});\n",
              "        if (!dataTable) return;\n",
              "\n",
              "        const docLinkHtml = 'Like what you see? Visit the ' +\n",
              "          '<a target=\"_blank\" href=https://colab.research.google.com/notebooks/data_table.ipynb>data table notebook</a>'\n",
              "          + ' to learn more about interactive tables.';\n",
              "        element.innerHTML = '';\n",
              "        dataTable['output_type'] = 'display_data';\n",
              "        await google.colab.output.renderOutput(dataTable, element);\n",
              "        const docLink = document.createElement('div');\n",
              "        docLink.innerHTML = docLinkHtml;\n",
              "        element.appendChild(docLink);\n",
              "      }\n",
              "    </script>\n",
              "  </div>\n",
              "\n",
              "\n",
              "<div id=\"df-cab3ddd4-0d06-4694-baf8-d186a1bc9f01\">\n",
              "  <button class=\"colab-df-quickchart\" onclick=\"quickchart('df-cab3ddd4-0d06-4694-baf8-d186a1bc9f01')\"\n",
              "            title=\"Suggest charts\"\n",
              "            style=\"display:none;\">\n",
              "\n",
              "<svg xmlns=\"http://www.w3.org/2000/svg\" height=\"24px\"viewBox=\"0 0 24 24\"\n",
              "     width=\"24px\">\n",
              "    <g>\n",
              "        <path d=\"M19 3H5c-1.1 0-2 .9-2 2v14c0 1.1.9 2 2 2h14c1.1 0 2-.9 2-2V5c0-1.1-.9-2-2-2zM9 17H7v-7h2v7zm4 0h-2V7h2v10zm4 0h-2v-4h2v4z\"/>\n",
              "    </g>\n",
              "</svg>\n",
              "  </button>\n",
              "\n",
              "<style>\n",
              "  .colab-df-quickchart {\n",
              "      --bg-color: #E8F0FE;\n",
              "      --fill-color: #1967D2;\n",
              "      --hover-bg-color: #E2EBFA;\n",
              "      --hover-fill-color: #174EA6;\n",
              "      --disabled-fill-color: #AAA;\n",
              "      --disabled-bg-color: #DDD;\n",
              "  }\n",
              "\n",
              "  [theme=dark] .colab-df-quickchart {\n",
              "      --bg-color: #3B4455;\n",
              "      --fill-color: #D2E3FC;\n",
              "      --hover-bg-color: #434B5C;\n",
              "      --hover-fill-color: #FFFFFF;\n",
              "      --disabled-bg-color: #3B4455;\n",
              "      --disabled-fill-color: #666;\n",
              "  }\n",
              "\n",
              "  .colab-df-quickchart {\n",
              "    background-color: var(--bg-color);\n",
              "    border: none;\n",
              "    border-radius: 50%;\n",
              "    cursor: pointer;\n",
              "    display: none;\n",
              "    fill: var(--fill-color);\n",
              "    height: 32px;\n",
              "    padding: 0;\n",
              "    width: 32px;\n",
              "  }\n",
              "\n",
              "  .colab-df-quickchart:hover {\n",
              "    background-color: var(--hover-bg-color);\n",
              "    box-shadow: 0 1px 2px rgba(60, 64, 67, 0.3), 0 1px 3px 1px rgba(60, 64, 67, 0.15);\n",
              "    fill: var(--button-hover-fill-color);\n",
              "  }\n",
              "\n",
              "  .colab-df-quickchart-complete:disabled,\n",
              "  .colab-df-quickchart-complete:disabled:hover {\n",
              "    background-color: var(--disabled-bg-color);\n",
              "    fill: var(--disabled-fill-color);\n",
              "    box-shadow: none;\n",
              "  }\n",
              "\n",
              "  .colab-df-spinner {\n",
              "    border: 2px solid var(--fill-color);\n",
              "    border-color: transparent;\n",
              "    border-bottom-color: var(--fill-color);\n",
              "    animation:\n",
              "      spin 1s steps(1) infinite;\n",
              "  }\n",
              "\n",
              "  @keyframes spin {\n",
              "    0% {\n",
              "      border-color: transparent;\n",
              "      border-bottom-color: var(--fill-color);\n",
              "      border-left-color: var(--fill-color);\n",
              "    }\n",
              "    20% {\n",
              "      border-color: transparent;\n",
              "      border-left-color: var(--fill-color);\n",
              "      border-top-color: var(--fill-color);\n",
              "    }\n",
              "    30% {\n",
              "      border-color: transparent;\n",
              "      border-left-color: var(--fill-color);\n",
              "      border-top-color: var(--fill-color);\n",
              "      border-right-color: var(--fill-color);\n",
              "    }\n",
              "    40% {\n",
              "      border-color: transparent;\n",
              "      border-right-color: var(--fill-color);\n",
              "      border-top-color: var(--fill-color);\n",
              "    }\n",
              "    60% {\n",
              "      border-color: transparent;\n",
              "      border-right-color: var(--fill-color);\n",
              "    }\n",
              "    80% {\n",
              "      border-color: transparent;\n",
              "      border-right-color: var(--fill-color);\n",
              "      border-bottom-color: var(--fill-color);\n",
              "    }\n",
              "    90% {\n",
              "      border-color: transparent;\n",
              "      border-bottom-color: var(--fill-color);\n",
              "    }\n",
              "  }\n",
              "</style>\n",
              "\n",
              "  <script>\n",
              "    async function quickchart(key) {\n",
              "      const quickchartButtonEl =\n",
              "        document.querySelector('#' + key + ' button');\n",
              "      quickchartButtonEl.disabled = true;  // To prevent multiple clicks.\n",
              "      quickchartButtonEl.classList.add('colab-df-spinner');\n",
              "      try {\n",
              "        const charts = await google.colab.kernel.invokeFunction(\n",
              "            'suggestCharts', [key], {});\n",
              "      } catch (error) {\n",
              "        console.error('Error during call to suggestCharts:', error);\n",
              "      }\n",
              "      quickchartButtonEl.classList.remove('colab-df-spinner');\n",
              "      quickchartButtonEl.classList.add('colab-df-quickchart-complete');\n",
              "    }\n",
              "    (() => {\n",
              "      let quickchartButtonEl =\n",
              "        document.querySelector('#df-cab3ddd4-0d06-4694-baf8-d186a1bc9f01 button');\n",
              "      quickchartButtonEl.style.display =\n",
              "        google.colab.kernel.accessAllowed ? 'block' : 'none';\n",
              "    })();\n",
              "  </script>\n",
              "</div>\n",
              "    </div>\n",
              "  </div>\n"
            ]
          },
          "metadata": {},
          "execution_count": 6
        }
      ]
    },
    {
      "cell_type": "code",
      "execution_count": 7,
      "metadata": {
        "colab": {
          "base_uri": "https://localhost:8080/"
        },
        "id": "ncke5sQQwCTf",
        "outputId": "e1ce4c3b-cca7-4330-e44b-d47faa16d80d"
      },
      "outputs": [
        {
          "output_type": "stream",
          "name": "stdout",
          "text": [
            "<class 'pandas.core.frame.DataFrame'>\n",
            "RangeIndex: 274093 entries, 0 to 274092\n",
            "Columns: 786 entries, names to 784\n",
            "dtypes: float64(784), object(2)\n",
            "memory usage: 1.6+ GB\n"
          ]
        },
        {
          "output_type": "execute_result",
          "data": {
            "text/plain": [
              "names     0\n",
              "labels    0\n",
              "1         0\n",
              "2         0\n",
              "3         0\n",
              "         ..\n",
              "780       0\n",
              "781       0\n",
              "782       0\n",
              "783       0\n",
              "784       0\n",
              "Length: 786, dtype: int64"
            ]
          },
          "metadata": {},
          "execution_count": 7
        }
      ],
      "source": [
        "data.info()\n",
        "data.isnull().sum()"
      ]
    },
    {
      "cell_type": "code",
      "source": [
        "print(data.columns)"
      ],
      "metadata": {
        "colab": {
          "base_uri": "https://localhost:8080/"
        },
        "id": "Zj7xDdjUw2il",
        "outputId": "26bdf67c-1812-49de-c630-c01ae1652ece"
      },
      "execution_count": 9,
      "outputs": [
        {
          "output_type": "stream",
          "name": "stdout",
          "text": [
            "Index(['names', 'labels', '1', '2', '3', '4', '5', '6', '7', '8',\n",
            "       ...\n",
            "       '775', '776', '777', '778', '779', '780', '781', '782', '783', '784'],\n",
            "      dtype='object', length=786)\n"
          ]
        }
      ]
    },
    {
      "cell_type": "markdown",
      "source": [
        "Separate the input features from the output labels.\n",
        "The resulting features DataFrame will be used to train the model and contains only the data necessary for learning."
      ],
      "metadata": {
        "id": "n_5q40_PGvUh"
      }
    },
    {
      "cell_type": "code",
      "source": [
        "# Features for the model (Dropping unnecessary columns to isolate features)\n",
        "features = data.drop(['labels', 'names'], axis=1)\n",
        "\n",
        "# Isolating the target variable\n",
        "labels = data['labels']"
      ],
      "metadata": {
        "id": "BPukCFhOxfK5"
      },
      "execution_count": 8,
      "outputs": []
    },
    {
      "cell_type": "markdown",
      "source": [
        "Creating two dictionaries. One that maps numerical values to labels, and another that maps labels back to numerical values. This is useful for encoding and decoding categorical labels."
      ],
      "metadata": {
        "id": "tFxgnxFX_Ed6"
      }
    },
    {
      "cell_type": "code",
      "source": [
        "# Extract unique labels from the data\n",
        "unique_labels = data['labels'].unique()\n",
        "\n",
        "# Create a dictionary mapping each label to a unique integer value\n",
        "label_to_value = {label: index for index, label in enumerate(unique_labels)}\n",
        "\n",
        "# Create a reverse dictionary mapping each integer value back to its corresponding label\n",
        "value_to_label = {index: label for label, index in label_to_value.items()}"
      ],
      "metadata": {
        "id": "YGg98Wz5xEC9"
      },
      "execution_count": 10,
      "outputs": []
    },
    {
      "cell_type": "code",
      "source": [
        "import matplotlib.pyplot as plt\n",
        "\n",
        "# Set the size of the entire figure\n",
        "plt.figure(figsize=(20, 10))\n",
        "\n",
        "# Plot the first 50 images and labels\n",
        "for i in range(50):\n",
        "    # Add a new subplot iteratively\n",
        "    plt.subplot(5, 10, i + 1)\n",
        "\n",
        "    # Remove axis ticks\n",
        "    plt.xticks([])\n",
        "    plt.yticks([])\n",
        "\n",
        "    # Set the title of each subplot to be the corresponding label\n",
        "    plt.title(labels.iloc[i], fontsize=10)\n",
        "\n",
        "    # Reshape the feature vector to 28x28 and plot it\n",
        "    image = features.values[i].reshape(28, 28)\n",
        "    plt.imshow(image, cmap='viridis')\n",
        "\n",
        "# Display the plot\n",
        "plt.tight_layout()\n",
        "plt.show()"
      ],
      "metadata": {
        "colab": {
          "base_uri": "https://localhost:8080/",
          "height": 768
        },
        "id": "U7Bze4c4_RcP",
        "outputId": "d2078b01-2a9f-4652-a356-aaea7ce90196"
      },
      "execution_count": 11,
      "outputs": [
        {
          "output_type": "display_data",
          "data": {
            "text/plain": [
              "<Figure size 2000x1000 with 50 Axes>"
            ],
            "image/png": "[encoded data removed]"
          },
          "metadata": {}
        }
      ]
    },
    {
      "cell_type": "code",
      "source": [
        "from sklearn.model_selection import train_test_split\n",
        "\n",
        "X_train, X_test, y_train, y_test = train_test_split( features, labels, test_size=0.20, random_state=42)"
      ],
      "metadata": {
        "id": "LL49SalZ_WEG"
      },
      "execution_count": 12,
      "outputs": []
    },
    {
      "cell_type": "markdown",
      "source": [
        "Categorical labels are converted into a format that is suitable for training machine learning models, especially neural networks, which require numerical input. This method also ensures that the model treats each category as a separate feature without assuming any ordinal relationship between them."
      ],
      "metadata": {
        "id": "zZ-NVWVxA0Bs"
      }
    },
    {
      "cell_type": "code",
      "source": [
        "from sklearn.preprocessing import OneHotEncoder\n",
        "\n",
        "# Create a OneHotEncoder object\n",
        "enc = OneHotEncoder(sparse=False, handle_unknown='ignore')\n",
        "\n",
        "# Fit the encoder on the y_train data and transform y_train\n",
        "y_train_encoded = enc.fit_transform(y_train.values.reshape(-1, 1))\n",
        "\n",
        "# Transform y_test data using the same encoder\n",
        "y_test_encoded = enc.transform(y_test.values.reshape(-1, 1))\n",
        "\n",
        "y_train_encoded = y_train_encoded.astype('float32')\n",
        "y_test_encoded = y_test_encoded.astype('float32')\n",
        "\n",
        "# Return the transformed y_train and y_test\n",
        "y_train_encoded, y_test_encoded"
      ],
      "metadata": {
        "colab": {
          "base_uri": "https://localhost:8080/"
        },
        "id": "HQIW_oBm_Z90",
        "outputId": "63dacdb3-22ac-4f4d-aa83-bf8874ac27f3"
      },
      "execution_count": 13,
      "outputs": [
        {
          "output_type": "execute_result",
          "data": {
            "text/plain": [
              "(array([[0., 0., 0., ..., 0., 0., 0.],\n",
              "        [0., 0., 0., ..., 0., 0., 0.],\n",
              "        [0., 0., 0., ..., 0., 0., 0.],\n",
              "        ...,\n",
              "        [0., 0., 0., ..., 0., 0., 0.],\n",
              "        [0., 0., 0., ..., 0., 0., 0.],\n",
              "        [0., 0., 0., ..., 0., 0., 0.]], dtype=float32),\n",
              " array([[0., 0., 0., ..., 0., 0., 0.],\n",
              "        [0., 0., 0., ..., 0., 0., 0.],\n",
              "        [0., 0., 0., ..., 0., 0., 0.],\n",
              "        ...,\n",
              "        [0., 0., 0., ..., 0., 0., 0.],\n",
              "        [0., 0., 0., ..., 0., 0., 0.],\n",
              "        [0., 0., 0., ..., 0., 0., 0.]], dtype=float32))"
            ]
          },
          "metadata": {},
          "execution_count": 13
        }
      ]
    },
    {
      "cell_type": "markdown",
      "source": [
        "The original data is in a flattened format, where each image is represented as a long array of pixel values. The reshaping is necessary because Convolutional Neural Networks (CNNs) require input data in a specific shape - typically, the height x width x channels of the image.\n",
        "\n",
        "This do not change the content of the images but modify their format to be suitable for processing by the neural network. So after reshaping, the images can be processed by the convolutional layers of a CNN, and after normalization, the model can train more efficiently"
      ],
      "metadata": {
        "id": "PdLg045XAuWb"
      }
    },
    {
      "cell_type": "code",
      "source": [
        "num_pixels = 28 * 28\n",
        "X_train_reshaped = X_train.values.reshape(-1, 28, 28, 1)  # -1 infers the number of samples\n",
        "X_test_reshaped = X_test.values.reshape(-1, 28, 28, 1)\n",
        "\n",
        "# Normalize the pixel values of the images to be between 0 and 1\n",
        "# This is done by converting the datatype to float32 and dividing by the max pixel value (255)\n",
        "X_train_normalized = X_train_reshaped.astype('float32') / 255.\n",
        "X_test_normalized = X_test_reshaped.astype('float32') / 255.\n",
        "\n",
        "# Print out the new shapes of the training and test datasets\n",
        "print('Shape of X_train after reshaping and normalization:', X_train_normalized.shape)\n",
        "print('Shape of X_test after reshaping and normalization:', X_test_normalized.shape)"
      ],
      "metadata": {
        "colab": {
          "base_uri": "https://localhost:8080/"
        },
        "id": "8a2aXvKi_c7h",
        "outputId": "08c21cda-5962-4771-a3ca-3e29c3a56419"
      },
      "execution_count": 14,
      "outputs": [
        {
          "output_type": "stream",
          "name": "stdout",
          "text": [
            "Shape of X_train after reshaping and normalization: (219274, 28, 28, 1)\n",
            "Shape of X_test after reshaping and normalization: (54819, 28, 28, 1)\n"
          ]
        }
      ]
    },
    {
      "cell_type": "code",
      "source": [
        "from tensorflow.keras.preprocessing.image import ImageDataGenerator\n",
        "\n",
        "data_generator = ImageDataGenerator(\n",
        "    rotation_range=20,\n",
        "    width_shift_range=0.2,\n",
        "    height_shift_range=0.2,\n",
        "    shear_range=0.2,\n",
        "    zoom_range=0.2,\n",
        "    horizontal_flip=True,\n",
        "    fill_mode='nearest'\n",
        ")\n",
        "\n",
        "augmented_data = data_generator.flow(X_train_reshaped, batch_size=32)"
      ],
      "metadata": {
        "id": "UzxqrZAEUuCJ"
      },
      "execution_count": 38,
      "outputs": []
    },
    {
      "cell_type": "code",
      "source": [
        "print(\"Shape of the first image:\", augmented_images[0].shape)\n"
      ],
      "metadata": {
        "colab": {
          "base_uri": "https://localhost:8080/"
        },
        "id": "CR1L1TbLVVaU",
        "outputId": "4f7d3ab7-2a68-4454-b744-6d88fe2805d0"
      },
      "execution_count": 41,
      "outputs": [
        {
          "output_type": "stream",
          "name": "stdout",
          "text": [
            "Shape of the first image: (28, 1)\n"
          ]
        }
      ]
    },
    {
      "cell_type": "markdown",
      "source": [
        "A Convolutional Neural Network (CNN) using TensorFlow's Keras API. CNNs have proven exceptionally effective for image recognition tasks due to their ability to capture spatial hierarchies in data. Here CNN will process images, learn distinguishing features, and classify them into various categories."
      ],
      "metadata": {
        "id": "Nl8ksMjvAprQ"
      }
    },
    {
      "cell_type": "code",
      "source": [
        "from tensorflow.keras.models import Sequential\n",
        "from tensorflow.keras.layers import Conv2D, MaxPooling2D, Dropout, Flatten, Dense\n",
        "\n",
        "# Initialize the Sequential model\n",
        "model = Sequential()\n",
        "\n",
        "# First Convolutional Layer\n",
        "model.add(Conv2D(64, (5, 5), padding='same', activation='relu', input_shape=(28, 28, 1)))\n",
        "model.add(MaxPooling2D(pool_size=(2, 2), strides=(2, 2), padding='same'))\n",
        "model.add(Dropout(0.25))  # Dropout to reduce overfitting\n",
        "\n",
        "# Second Convolutional Layer\n",
        "model.add(Conv2D(32, (3, 3), padding='same', activation='relu'))\n",
        "model.add(MaxPooling2D(pool_size=(2, 2), strides=(2, 2), padding='same'))\n",
        "model.add(Dropout(0.25))  # Dropout to reduce overfitting\n",
        "\n",
        "# Third Convolutional Layer\n",
        "model.add(Conv2D(32, (3, 3), padding='same', activation='relu'))\n",
        "model.add(MaxPooling2D(pool_size=(2, 2), strides=(2, 2), padding='same'))\n",
        "model.add(Dropout(0.25))  # Dropout to reduce overfitting\n",
        "\n",
        "# Flattening the output to feed into a Dense layer\n",
        "model.add(Flatten())\n",
        "\n",
        "# Fully Connected Layer 1\n",
        "model.add(Dense(256, activation='relu'))\n",
        "model.add(Dropout(0.25))  # Dropout to reduce overfitting\n",
        "\n",
        "# Fully Connected Layer 2 (Output Layer)\n",
        "# The number of neurons equals the number of classes\n",
        "num_classes = data['labels'].nunique()\n",
        "model.add(Dense(num_classes, activation='softmax'))\n",
        "\n",
        "# Compile the model\n",
        "model.compile(optimizer='adam', loss='categorical_crossentropy', metrics=['accuracy'])\n"
      ],
      "metadata": {
        "id": "p7FQ-q_u_hUs"
      },
      "execution_count": 15,
      "outputs": []
    },
    {
      "cell_type": "markdown",
      "source": [
        "* model.compile() configures the model for training.\n",
        "* optimizer='adam' is an algorithm for gradient descent optimization.\n",
        "* loss='categorical_crossentropy' is the loss function, suitable for multi-class classification.\n",
        "* metrics=['accuracy'] means that the model will track accuracy during training."
      ],
      "metadata": {
        "id": "01Dy4tRhAlHN"
      }
    },
    {
      "cell_type": "markdown",
      "source": [
        "The \"sequential\" model is a medium-sized CNN appropriate for image classification tasks. It uses a series of convolutional layers to extract features from the input data, pooling layers to reduce dimensionality, and dropout layers to combat overfitting. Finally, it employs dense layers to make predictions across multiple classes. The architecture is designed to learn a hierarchy of features with increasing levels of abstraction, which is typical for deep learning models applied to visual recognition tasks."
      ],
      "metadata": {
        "id": "2V1biNRsIbI6"
      }
    },
    {
      "cell_type": "code",
      "source": [
        "# Print the model summary\n",
        "model.summary()"
      ],
      "metadata": {
        "colab": {
          "base_uri": "https://localhost:8080/"
        },
        "id": "8fMRkxiy_kP9",
        "outputId": "215eb5eb-b774-4acd-b988-f246b9487f25"
      },
      "execution_count": 16,
      "outputs": [
        {
          "output_type": "stream",
          "name": "stdout",
          "text": [
            "Model: \"sequential\"\n",
            "_________________________________________________________________\n",
            " Layer (type)                Output Shape              Param #   \n",
            "=================================================================\n",
            " conv2d (Conv2D)             (None, 28, 28, 64)        1664      \n",
            "                                                                 \n",
            " max_pooling2d (MaxPooling2  (None, 14, 14, 64)        0         \n",
            " D)                                                              \n",
            "                                                                 \n",
            " dropout (Dropout)           (None, 14, 14, 64)        0         \n",
            "                                                                 \n",
            " conv2d_1 (Conv2D)           (None, 14, 14, 32)        18464     \n",
            "                                                                 \n",
            " max_pooling2d_1 (MaxPoolin  (None, 7, 7, 32)          0         \n",
            " g2D)                                                            \n",
            "                                                                 \n",
            " dropout_1 (Dropout)         (None, 7, 7, 32)          0         \n",
            "                                                                 \n",
            " conv2d_2 (Conv2D)           (None, 7, 7, 32)          9248      \n",
            "                                                                 \n",
            " max_pooling2d_2 (MaxPoolin  (None, 4, 4, 32)          0         \n",
            " g2D)                                                            \n",
            "                                                                 \n",
            " dropout_2 (Dropout)         (None, 4, 4, 32)          0         \n",
            "                                                                 \n",
            " flatten (Flatten)           (None, 512)               0         \n",
            "                                                                 \n",
            " dense (Dense)               (None, 256)               131328    \n",
            "                                                                 \n",
            " dropout_3 (Dropout)         (None, 256)               0         \n",
            "                                                                 \n",
            " dense_1 (Dense)             (None, 94)                24158     \n",
            "                                                                 \n",
            "=================================================================\n",
            "Total params: 184862 (722.12 KB)\n",
            "Trainable params: 184862 (722.12 KB)\n",
            "Non-trainable params: 0 (0.00 Byte)\n",
            "_________________________________________________________________\n"
          ]
        }
      ]
    },
    {
      "cell_type": "markdown",
      "source": [
        "\n",
        "The model consists of several layers, each designed to process image data and ultimately classify the images into one of 94 classes.\n",
        "\n",
        "* The model has a total of 184,862 parameters, all of which are trainable. This means the model has nearly 185k values that will be adjusted during the training process to minimize the classification error.\n",
        "\n",
        "* The total size of the model is approximately 722.12 KB, which represents the memory footprint required to store the model's parameters."
      ],
      "metadata": {
        "id": "vSq2smlSISeo"
      }
    },
    {
      "cell_type": "code",
      "source": [
        "# For features\n",
        "print(\"Shape of X_train_normalized:\", X_train_normalized.shape)\n",
        "print(\"Shape of X_test_normalized:\", X_test_normalized.shape)\n",
        "\n",
        "# For labels\n",
        "print(\"Shape of y_train_encoded:\", y_train_encoded.shape)\n",
        "print(\"Shape of y_test_encoded:\", y_test_encoded.shape)"
      ],
      "metadata": {
        "colab": {
          "base_uri": "https://localhost:8080/"
        },
        "id": "e6mcwwx5_nX5",
        "outputId": "ff17142e-aa79-4a83-9da0-6c836650020b"
      },
      "execution_count": 17,
      "outputs": [
        {
          "output_type": "stream",
          "name": "stdout",
          "text": [
            "Shape of X_train_normalized: (219274, 28, 28, 1)\n",
            "Shape of X_test_normalized: (54819, 28, 28, 1)\n",
            "Shape of y_train_encoded: (219274, 94)\n",
            "Shape of y_test_encoded: (54819, 94)\n"
          ]
        }
      ]
    },
    {
      "cell_type": "code",
      "source": [
        "print(\"Data type of X_train_normalized:\", X_train_normalized.dtype)\n",
        "print(\"Data type of y_train_encoded:\", y_train_encoded.dtype)"
      ],
      "metadata": {
        "colab": {
          "base_uri": "https://localhost:8080/"
        },
        "id": "uSlVS_R2_p0a",
        "outputId": "a407ca1d-ac57-4760-bb3a-a944cebb293d"
      },
      "execution_count": 18,
      "outputs": [
        {
          "output_type": "stream",
          "name": "stdout",
          "text": [
            "Data type of X_train_normalized: float32\n",
            "Data type of y_train_encoded: float32\n"
          ]
        }
      ]
    },
    {
      "cell_type": "code",
      "source": [
        "from tensorflow.keras.callbacks import LearningRateScheduler\n",
        "\n",
        "def scheduler(epoch, lr):\n",
        "    if epoch < 10:\n",
        "        return lr\n",
        "    else:\n",
        "        return lr * tf.math.exp(-0.1)\n",
        "\n",
        "callback = LearningRateScheduler(scheduler)"
      ],
      "metadata": {
        "id": "YSTFTfv1Ho1V"
      },
      "execution_count": 25,
      "outputs": []
    },
    {
      "cell_type": "code",
      "source": [
        "from tensorflow.keras.callbacks import EarlyStopping\n",
        "\n",
        "early_stopping = EarlyStopping(monitor='val_loss', patience=5)"
      ],
      "metadata": {
        "id": "xBVaPMGxHpKP"
      },
      "execution_count": 26,
      "outputs": []
    },
    {
      "cell_type": "markdown",
      "source": [
        "Keras to adjust the learning rate according to the scheduler function at the end of each epoch during training to avoid overshooting the minimum and can potentially lead to a better and more stable model."
      ],
      "metadata": {
        "id": "ZHfFxAfJHiJY"
      }
    },
    {
      "cell_type": "code",
      "source": [
        "history = model.fit(X_train_normalized, y_train_encoded, validation_data=(X_test_normalized, y_test_encoded), epochs=10, batch_size=64, verbose=1)"
      ],
      "metadata": {
        "colab": {
          "base_uri": "https://localhost:8080/"
        },
        "id": "oMiSNuIl_s36",
        "outputId": "cb6764eb-c3db-47e2-b834-0708f87311c6"
      },
      "execution_count": 19,
      "outputs": [
        {
          "output_type": "stream",
          "name": "stdout",
          "text": [
            "Epoch 1/10\n",
            "3427/3427 [==============================] - 555s 161ms/step - loss: 0.7703 - accuracy: 0.7765 - val_loss: 0.3437 - val_accuracy: 0.8895\n",
            "Epoch 2/10\n",
            "3427/3427 [==============================] - 496s 145ms/step - loss: 0.4023 - accuracy: 0.8723 - val_loss: 0.3190 - val_accuracy: 0.8902\n",
            "Epoch 3/10\n",
            "3427/3427 [==============================] - 506s 148ms/step - loss: 0.3436 - accuracy: 0.8925 - val_loss: 0.2490 - val_accuracy: 0.9219\n",
            "Epoch 4/10\n",
            "3427/3427 [==============================] - 495s 145ms/step - loss: 0.3159 - accuracy: 0.8999 - val_loss: 0.2257 - val_accuracy: 0.9298\n",
            "Epoch 5/10\n",
            "3427/3427 [==============================] - 516s 151ms/step - loss: 0.3014 - accuracy: 0.9049 - val_loss: 0.2222 - val_accuracy: 0.9299\n",
            "Epoch 6/10\n",
            "3427/3427 [==============================] - 496s 145ms/step - loss: 0.2868 - accuracy: 0.9085 - val_loss: 0.2163 - val_accuracy: 0.9308\n",
            "Epoch 7/10\n",
            "3427/3427 [==============================] - 490s 143ms/step - loss: 0.2809 - accuracy: 0.9101 - val_loss: 0.2125 - val_accuracy: 0.9303\n",
            "Epoch 8/10\n",
            "3427/3427 [==============================] - 490s 143ms/step - loss: 0.2742 - accuracy: 0.9120 - val_loss: 0.2096 - val_accuracy: 0.9324\n",
            "Epoch 9/10\n",
            "3427/3427 [==============================] - 489s 143ms/step - loss: 0.2692 - accuracy: 0.9135 - val_loss: 0.2047 - val_accuracy: 0.9340\n",
            "Epoch 10/10\n",
            "3427/3427 [==============================] - 490s 143ms/step - loss: 0.2652 - accuracy: 0.9146 - val_loss: 0.2045 - val_accuracy: 0.9337\n"
          ]
        }
      ]
    },
    {
      "cell_type": "markdown",
      "source": [
        "Evaluating a trained machine learning model's performance on a test dataset and making predictions with that model."
      ],
      "metadata": {
        "id": "9CYlfAnuKYn6"
      }
    },
    {
      "cell_type": "code",
      "source": [
        "test_loss, test_accuracy = model.evaluate(X_test_normalized, y_test_encoded)\n",
        "print(\"Test accuracy:\", test_accuracy)\n",
        "\n",
        "y_labels_pred = model.predict(X_test_normalized)"
      ],
      "metadata": {
        "colab": {
          "base_uri": "https://localhost:8080/"
        },
        "id": "c_AuzeYJAGea",
        "outputId": "8dbc3a58-c182-46da-bec5-e4947f11d856"
      },
      "execution_count": 22,
      "outputs": [
        {
          "output_type": "stream",
          "name": "stdout",
          "text": [
            "1714/1714 [==============================] - 40s 23ms/step - loss: 0.2045 - accuracy: 0.9337\n",
            "Test accuracy: 0.9337091445922852\n",
            "1714/1714 [==============================] - 30s 18ms/step\n"
          ]
        }
      ]
    },
    {
      "cell_type": "code",
      "source": [
        "# Evaluate the model on the test dataset\n",
        "evaluation = model.evaluate(X_test_normalized, y_test_encoded, batch_size=64, verbose=1)\n",
        "\n",
        "# Extract loss and accuracy from the evaluation result\n",
        "test_loss, test_accuracy = evaluation[0], evaluation[1]\n",
        "\n",
        "# Print a formatted summary of the results\n",
        "print(f'\\nTest Evaluation Summary:')\n",
        "print(f'\\tTest Loss: {test_loss:.2f} - This value represents the average loss of the model on the test dataset.')\n",
        "print(f'\\tTest Accuracy: {test_accuracy * 100:.2f}% - This percentage indicates how often the model correctly predicted the label out of all test samples.')"
      ],
      "metadata": {
        "colab": {
          "base_uri": "https://localhost:8080/"
        },
        "id": "s7YzzjG_TS0F",
        "outputId": "467db852-0e22-45c3-a3df-9357dee3e8a7"
      },
      "execution_count": 23,
      "outputs": [
        {
          "output_type": "stream",
          "name": "stdout",
          "text": [
            "857/857 [==============================] - 33s 39ms/step - loss: 0.2045 - accuracy: 0.9337\n",
            "\n",
            "Test Evaluation Summary:\n",
            "\tTest Loss: 0.20 - This value represents the average loss of the model on the test dataset.\n",
            "\tTest Accuracy: 93.37% - This percentage indicates how often the model correctly predicted the label out of all test samples.\n"
          ]
        }
      ]
    },
    {
      "cell_type": "code",
      "source": [
        "# Make predictions\n",
        "predictions = model.predict(X_test_normalized)\n",
        "predicted_classes = np.argmax(predictions, axis=1)\n",
        "\n",
        "# Inverse transform your encoded y_test data to its original form if it's one-hot encoded\n",
        "true_classes = np.argmax(y_test_encoded, axis=1)"
      ],
      "metadata": {
        "colab": {
          "base_uri": "https://localhost:8080/"
        },
        "id": "VTutpt88BJDn",
        "outputId": "9cc505b1-17c4-4b2d-8721-e6eaf6215324"
      },
      "execution_count": 24,
      "outputs": [
        {
          "output_type": "stream",
          "name": "stdout",
          "text": [
            "1714/1714 [==============================] - 35s 20ms/step\n"
          ]
        }
      ]
    },
    {
      "cell_type": "markdown",
      "source": [
        "Outputs the probability distributions across all classes for each image.\n",
        "\n",
        "Each image is displayed with two labels: the true label and the model's predicted label. This dual labeling helps in directly observing the instances where our model performs well and where it makes errors."
      ],
      "metadata": {
        "id": "a34k5gEvB92n"
      }
    },
    {
      "cell_type": "code",
      "source": [
        "# number of images you want to display\n",
        "num_images_to_display = 10\n",
        "\n",
        "# Set up the figure\n",
        "plt.figure(figsize=(15, 5))\n",
        "\n",
        "# Add a main title to the figure\n",
        "plt.suptitle('Hello World: TMNIST Handwritten Digit Classification', fontsize=16)\n",
        "\n",
        "for i in range(num_images_to_display):\n",
        "    plt.subplot(2, num_images_to_display, i+1)\n",
        "    plt.xticks([])\n",
        "    plt.yticks([])\n",
        "    plt.grid(False)\n",
        "    plt.imshow(X_test_normalized[i].reshape(28, 28), cmap=plt.cm.binary)\n",
        "    # Label each image with its corresponding true and predicted labels\n",
        "    plt.xlabel(f\"True: {value_to_label[true_classes[i]]}\\nPredicted: {value_to_label[predicted_classes[i]]}\")\n",
        "\n",
        "# Show the plot\n",
        "plt.show()"
      ],
      "metadata": {
        "colab": {
          "base_uri": "https://localhost:8080/",
          "height": 260
        },
        "id": "sVrq45XrBMUQ",
        "outputId": "d6db2ac7-ffe7-499c-b24b-bafc8cc8140c"
      },
      "execution_count": 27,
      "outputs": [
        {
          "output_type": "display_data",
          "data": {
            "text/plain": [
              "<Figure size 1500x500 with 10 Axes>"
            ],
            "image/png": "[encoded data removed]"
          },
          "metadata": {}
        }
      ]
    },
    {
      "cell_type": "markdown",
      "source": [
        "a convolutional neural network (CNN) for the task of character recognition within the TMNIST dataset, which contains 94 different characters."
      ],
      "metadata": {
        "id": "5XIeraoRXyIK"
      }
    },
    {
      "cell_type": "code",
      "source": [
        "# Predicting characters using the trained model and displaying the results\n",
        "fig, axes = plt.subplots(3, 3, figsize=(8, 9))  # Set up a 3x3 grid of subplots\n",
        "axes = axes.flatten()  # Flatten the 2D array of axes for easy iteration\n",
        "label_dict_inv = {v: k for k, v in label_to_value.items()}\n",
        "X_test_np = X_test.to_numpy()\n",
        "for i, ax in enumerate(axes):\n",
        "    #img = np.reshape(X_test.iloc[i].to_numpy(), (28, 28))\n",
        "    img = np.reshape(X_test_np[i], (28, 28))\n",
        "    ax.imshow(img, cmap=\"Greys\")  # Display the image in grayscale\n",
        "\n",
        "    img_for_prediction = np.reshape(img, (1, 28, 28, 1))  # Reshape the image for model input\n",
        "    pred_class_index = np.argmax(model.predict(img_for_prediction))  # Predict the class\n",
        "    predicted_label = label_dict_inv[pred_class_index]  # Retrieve the label from the dictionary\n",
        "\n",
        "    ax.set_title(f\"Prediction: {predicted_label}\")  # Set the title with the predicted label\n",
        "    ax.grid(False)  # Disable the grid for a cleaner look\n",
        "\n",
        "plt.tight_layout()  # Adjust layout for better visibility\n",
        "plt.show()  # Display the plot\n"
      ],
      "metadata": {
        "colab": {
          "base_uri": "https://localhost:8080/",
          "height": 1000
        },
        "id": "oVxAZcQ4WREM",
        "outputId": "1f498927-41a3-4ca6-d373-6ec12e0de7fd"
      },
      "execution_count": 47,
      "outputs": [
        {
          "output_type": "stream",
          "name": "stdout",
          "text": [
            "1/1 [==============================] - 0s 48ms/step\n",
            "1/1 [==============================] - 0s 41ms/step\n",
            "1/1 [==============================] - 0s 86ms/step\n",
            "1/1 [==============================] - 0s 72ms/step\n",
            "1/1 [==============================] - 0s 44ms/step\n",
            "1/1 [==============================] - 0s 48ms/step\n",
            "1/1 [==============================] - 0s 101ms/step\n",
            "1/1 [==============================] - 0s 43ms/step\n",
            "1/1 [==============================] - 0s 59ms/step\n"
          ]
        },
        {
          "output_type": "display_data",
          "data": {
            "text/plain": [
              "<Figure size 800x900 with 9 Axes>"
            ],
            "image/png": "[encoded data removed]"
          },
          "metadata": {}
        }
      ]
    },
    {
      "cell_type": "code",
      "source": [
        "import matplotlib.pyplot as plt\n",
        "\n",
        "# Assuming 'history' is the output from model.fit()\n",
        "history_dict = history.history\n",
        "\n",
        "# Values of loss and accuracy during training\n",
        "train_loss = history_dict['loss']\n",
        "train_accuracy = history_dict['accuracy']\n",
        "\n",
        "# Values of loss and accuracy during validation\n",
        "val_loss = history_dict['val_loss']\n",
        "val_accuracy = history_dict['val_accuracy']\n",
        "\n",
        "epochs = range(1, len(train_loss) + 1)"
      ],
      "metadata": {
        "id": "HXmihSpBAPIE"
      },
      "execution_count": 29,
      "outputs": []
    },
    {
      "cell_type": "markdown",
      "source": [
        "Plot for training and validation loss"
      ],
      "metadata": {
        "id": "eoWesTXMAbrC"
      }
    },
    {
      "cell_type": "code",
      "source": [
        "plt.figure(figsize=(12, 6))\n",
        "plt.subplot(1, 2, 1)\n",
        "plt.plot(epochs, train_loss, label='Training Loss')\n",
        "plt.plot(epochs, val_loss, label='Validation Loss')\n",
        "plt.title('Training and Validation Loss')\n",
        "plt.xlabel('Epochs')\n",
        "plt.ylabel('Loss')\n",
        "plt.legend()\n",
        "\n",
        "plt.tight_layout()\n",
        "plt.show()"
      ],
      "metadata": {
        "colab": {
          "base_uri": "https://localhost:8080/",
          "height": 607
        },
        "id": "HIuRghVpASH8",
        "outputId": "c49d2074-98d4-4150-a0eb-a824343c9ee1"
      },
      "execution_count": 30,
      "outputs": [
        {
          "output_type": "display_data",
          "data": {
            "text/plain": [
              "<Figure size 1200x600 with 1 Axes>"
            ],
            "image/png": "[encoded data removed]"
          },
          "metadata": {}
        }
      ]
    },
    {
      "cell_type": "markdown",
      "source": [
        "Plot for training and validation accuracy"
      ],
      "metadata": {
        "id": "1N3-Bp5eAXci"
      }
    },
    {
      "cell_type": "markdown",
      "source": [
        "* The Training Loss (depicted in blue) shows a sharp decrease initially, then levels off, reflecting the model's rapid initial learning and subsequent stabilization as it begins to converge.\n",
        "* The Validation Loss (depicted in orange) decreases at a slower rate compared to the training loss. The convergence of validation loss at a higher value than training loss is typical and reflects the discrepancy between the model's performance on training versus unseen data.\n",
        "\n",
        "The fact that both losses are decreasing is a positive sign, indicating that the model is learning."
      ],
      "metadata": {
        "id": "YgVSXdd8ECBO"
      }
    },
    {
      "cell_type": "code",
      "source": [
        "plt.subplot(1, 2, 2)\n",
        "plt.plot(epochs, train_accuracy, label='Training Accuracy')\n",
        "plt.plot(epochs, val_accuracy, label='Validation Accuracy')\n",
        "plt.title('Training and Validation Accuracy')\n",
        "plt.xlabel('Epochs')\n",
        "plt.ylabel('Accuracy')\n",
        "plt.legend()\n",
        "\n",
        "plt.tight_layout()\n",
        "plt.show()"
      ],
      "metadata": {
        "colab": {
          "base_uri": "https://localhost:8080/",
          "height": 487
        },
        "id": "4rPbfNTdAUuk",
        "outputId": "e3cac175-652f-449c-ada8-170c22f3a40a"
      },
      "execution_count": 31,
      "outputs": [
        {
          "output_type": "display_data",
          "data": {
            "text/plain": [
              "<Figure size 640x480 with 1 Axes>"
            ],
            "image/png": "[encoded data removed]"
          },
          "metadata": {}
        }
      ]
    },
    {
      "cell_type": "markdown",
      "source": [
        "* The Training Accuracy (depicted in blue) starts at a high value and steadily increases over epochs, suggesting that the model is effectively learning from the training data.\n",
        "\n",
        "* The Validation Accuracy (depicted in orange) also starts high and appears to plateau as epochs progress. This trend is indicative of the model's ability to generalize to new, unseen data.\n",
        "\n",
        "* The accuracy values, both for training and validation, are quite high, indicating a strong performance of the model."
      ],
      "metadata": {
        "id": "4MdWGWoCDyUx"
      }
    }
  ]
}